{
 "cells": [
  {
   "cell_type": "code",
   "execution_count": 10,
   "metadata": {},
   "outputs": [],
   "source": [
    "from sklearn.ensemble import RandomForestClassifier\n",
    "from sklearn.model_selection import validation_curve\n",
    "from sklearn.linear_model import Ridge\n",
    "\n",
    "import pandas as pd\n",
    "import numpy as np"
   ]
  },
  {
   "cell_type": "code",
   "execution_count": 11,
   "metadata": {},
   "outputs": [],
   "source": [
    "df_500 = pd.read_csv(filepath_or_buffer=\"data/train500.csv\", index_col=0)\n",
    "test_500 = pd.read_csv(filepath_or_buffer=\"data/test500.csv\", index_col=0)\n",
    "\n",
    "dropped = ['file', 'label']\n",
    "\n",
    "X = df_500.drop(columns=dropped)\n",
    "y = df_500['label']"
   ]
  },
  {
   "cell_type": "code",
   "execution_count": 27,
   "metadata": {},
   "outputs": [
    {
     "data": {
      "text/plain": [
       "RandomForestClassifier(bootstrap=True, class_weight=None, criterion='gini',\n",
       "            max_depth=10, max_features='auto', max_leaf_nodes=None,\n",
       "            min_impurity_decrease=0.0, min_impurity_split=None,\n",
       "            min_samples_leaf=1, min_samples_split=2,\n",
       "            min_weight_fraction_leaf=0.0, n_estimators=600, n_jobs=1,\n",
       "            oob_score=False, random_state=None, verbose=0,\n",
       "            warm_start=False)"
      ]
     },
     "execution_count": 27,
     "metadata": {},
     "output_type": "execute_result"
    }
   ],
   "source": [
    "rdc = RandomForestClassifier(n_estimators=600, max_depth=10)\n",
    "rdc.fit(X, y)"
   ]
  },
  {
   "cell_type": "code",
   "execution_count": 28,
   "metadata": {},
   "outputs": [
    {
     "data": {
      "text/plain": [
       "0.995590490797546"
      ]
     },
     "execution_count": 28,
     "metadata": {},
     "output_type": "execute_result"
    }
   ],
   "source": [
    "rdc.score(X, y)"
   ]
  },
  {
   "cell_type": "code",
   "execution_count": 29,
   "metadata": {},
   "outputs": [
    {
     "data": {
      "text/plain": [
       "0.99079754601227"
      ]
     },
     "execution_count": 29,
     "metadata": {},
     "output_type": "execute_result"
    }
   ],
   "source": [
    "rdc.score(test_500.drop(columns=dropped), test_500['label'])"
   ]
  },
  {
   "cell_type": "code",
   "execution_count": 35,
   "metadata": {},
   "outputs": [],
   "source": [
    "from sklearn.metrics import accuracy_score\n",
    "from sklearn.metrics import log_loss"
   ]
  },
  {
   "cell_type": "code",
   "execution_count": 34,
   "metadata": {},
   "outputs": [
    {
     "data": {
      "text/plain": [
       "0.99079754601227"
      ]
     },
     "execution_count": 34,
     "metadata": {},
     "output_type": "execute_result"
    }
   ],
   "source": [
    "accuracy_score(test_500['label'], rdc.predict(test_500.drop(columns=dropped)))"
   ]
  },
  {
   "cell_type": "code",
   "execution_count": 38,
   "metadata": {},
   "outputs": [
    {
     "data": {
      "text/plain": [
       "0.10621165457845674"
      ]
     },
     "execution_count": 38,
     "metadata": {},
     "output_type": "execute_result"
    }
   ],
   "source": [
    "log_loss(test_500['label'], rdc.predict_proba(test_500.drop(columns=dropped)))"
   ]
  },
  {
   "cell_type": "code",
   "execution_count": 40,
   "metadata": {},
   "outputs": [
    {
     "data": {
      "text/plain": [
       "0       gvDKqkdM7lEHLUouyzjY\n",
       "1       9mJgIciYvjd3G180auwf\n",
       "2       Hos7LWmZR926VO5Kcgpd\n",
       "3       gLlmqtyshpVY7D0H5TkR\n",
       "4       6q9PF1AdMcOIBjhi58CY\n",
       "5       5JLHiDhkzyYPdTeuMqXb\n",
       "6       kJNLp6CyAKfgVMFwUInG\n",
       "7       drvYNPo4KifmOn3uV596\n",
       "8       KjC2x6liRnkdpaBsuUoV\n",
       "9       9NFP4OaTELWui5DRkxAI\n",
       "10      3ESs1rk0uyp9wlGgFaKj\n",
       "11      7w9HgKIJmjx0cYnea243\n",
       "12      AVPiBl6L9GnNCJ25DFEI\n",
       "13      1zb0rkEtweXH7ABuqoM2\n",
       "14      d3OyhCmaB9zln4AwTRGW\n",
       "15      9rMC4jyes0RoxgZwIGkA\n",
       "16      aKQHksThE3fdVCizYpGI\n",
       "17      awL7j9SeuAFY4DqmtBCo\n",
       "18      D9QULlKPYijhJezwSOFT\n",
       "19      I09WMFrpLYEUNljGZeBt\n",
       "20      eDgCZMUwHsh2az0yLb9o\n",
       "21      FdSyWHUrZqeo9aE1mI7O\n",
       "22      B5M1QJjfpUbcaG3kYX4m\n",
       "23      EXN8IoYcZs1qaCMBPtWA\n",
       "24      31KjQiNWATfPaozHtYOl\n",
       "25      HyGZgONJhVT2lqb0tjwF\n",
       "26      7jlGOKozPAb8F6DhZuB1\n",
       "27      IlUFGP6gY7fABDdwLWo9\n",
       "28      4Fdkzt7s2OZVYeLIplvh\n",
       "29      2j6bnlrCgNW9cvm0KIMH\n",
       "                ...         \n",
       "1274    k3lUV2ChNYupKI8vZxme\n",
       "1275    7HMXW2jrxdfiv4UB8kYh\n",
       "1276    aiMKVfemDq61JY94T8I7\n",
       "1277    jvdxgat3YnbeTL7Olh2F\n",
       "1278    FEoIKDQTpR2wjSAxz8Wu\n",
       "1279    deTXH9Zau7qmM0yfYsRS\n",
       "1280    gQePb628SxKWtsRZcFV5\n",
       "1281    83dL7Ovsfp9yCQTMehHD\n",
       "1282    HKFhlIpNTqUuGe7E6VtB\n",
       "1283    C9ZISBrLa75JVEzlO4GH\n",
       "1284    jgc7JuLdUTfKEIiC32v5\n",
       "1285    GMmILXek4Tuh5iWbOrjU\n",
       "1286    6NCw8nF9A7fUzYLyJIiD\n",
       "1287    A4xfRz73qWePOCnJ2Sya\n",
       "1288    k1Jt5Q0jR8nAo4Fq3fzp\n",
       "1289    1hfkVAzp9jybt7YKEBrF\n",
       "1290    DEjovOYT6qBFNflcSHbG\n",
       "1291    jvySFY0Moq4iC2EuU1HJ\n",
       "1292    gdoH4F675iWmYCT2OrnZ\n",
       "1293    GbTUXFYkMoafQSe1zN94\n",
       "1294    01IsoiSMh5gxyDYTl4CB\n",
       "1295    AFiruP53lsbNCjnkoIyM\n",
       "1296    aQUM2OeWo1PwkhzsXv4x\n",
       "1297    Ki1pYrmszFSjuWUvHIqk\n",
       "1298    0pTO4SVnWDehgUlYBAvq\n",
       "1299    3wKmdN7rqQi9cT6zRLPB\n",
       "1300    AqJTUE6cwrdI0QF3Dvg5\n",
       "1301    1Pcq2sTQEV7r3gBSwFyU\n",
       "1302    1TLN456WuaqCsDr9pv0z\n",
       "1303    aiYVJXQbeFfxtZ3TGvH0\n",
       "Name: file, Length: 1304, dtype: object"
      ]
     },
     "execution_count": 40,
     "metadata": {},
     "output_type": "execute_result"
    }
   ],
   "source": [
    "test_500['file']"
   ]
  },
  {
   "cell_type": "code",
   "execution_count": null,
   "metadata": {},
   "outputs": [],
   "source": []
  }
 ],
 "metadata": {
  "kernelspec": {
   "display_name": "Python 3",
   "language": "python",
   "name": "python3"
  },
  "language_info": {
   "codemirror_mode": {
    "name": "ipython",
    "version": 3
   },
   "file_extension": ".py",
   "mimetype": "text/x-python",
   "name": "python",
   "nbconvert_exporter": "python",
   "pygments_lexer": "ipython3",
   "version": "3.6.5"
  }
 },
 "nbformat": 4,
 "nbformat_minor": 2
}
