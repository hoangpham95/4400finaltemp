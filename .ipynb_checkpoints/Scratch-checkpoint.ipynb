{
 "cells": [
  {
   "cell_type": "code",
   "execution_count": 12,
   "metadata": {},
   "outputs": [],
   "source": [
    "import re\n",
    "\n",
    "with open(\"data/0A32eTdBKayjCWhZqDOQ.asm\", \"r\", encoding = \"ISO-8859-1\") as file:\n",
    "    tokens = re.sub(r'\\n|\\r|\\t',' ',file.read()).split() "
   ]
  },
  {
   "cell_type": "code",
   "execution_count": 14,
   "metadata": {},
   "outputs": [],
   "source": [
    "section_prefixes = [\n",
    "    'HEADER:', '.text:', '.Pav:', '.idata', '.data', '.rdata', '.bss', '.edata:',\n",
    "    '.rsrc:', '.tls', '.reloc:'\n",
    "]"
   ]
  },
  {
   "cell_type": "code",
   "execution_count": 15,
   "metadata": {},
   "outputs": [],
   "source": [
    "op_instr = [\n",
    "    'jump', 'mov', 'retf', 'push', 'pop', 'xor', 'retn', 'nop', 'sub', 'inc', 'dec', 'add',\n",
    "    'imul', 'xchg', 'or', 'shr', 'cmp', 'call', 'shl', 'ror', 'rol', 'jnb'\n",
    "]"
   ]
  },
  {
   "cell_type": "code",
   "execution_count": 16,
   "metadata": {},
   "outputs": [],
   "source": [
    "# Platform specific keywords\n",
    "msft_kw = ['.dll', 'std::', ':dword']"
   ]
  },
  {
   "cell_type": "code",
   "execution_count": 17,
   "metadata": {},
   "outputs": [],
   "source": [
    "# important keyword to interact with stack and manipulate memories\n",
    "imp_kw = ['FUNCTION', 'call'] # memcpy_s and memmove_s usually comes after call"
   ]
  },
  {
   "cell_type": "code",
   "execution_count": 19,
   "metadata": {},
   "outputs": [],
   "source": [
    "filtered = ['HEADER:']\n",
    "op_list = []"
   ]
  },
  {
   "cell_type": "code",
   "execution_count": 20,
   "metadata": {},
   "outputs": [
    {
     "data": {
      "text/plain": [
       "'sub_4015A0'"
      ]
     },
     "execution_count": 20,
     "metadata": {},
     "output_type": "execute_result"
    }
   ],
   "source": [
    "x = \"sub_4015A0(struct std::exception*)\"\n",
    "x.partition(\"(\")[0]"
   ]
  },
  {
   "cell_type": "code",
   "execution_count": null,
   "metadata": {},
   "outputs": [],
   "source": [
    "for i in xrange(1, len(tokens) - 1):\n",
    "    if any(tokens[i] == op for op in op_instr):\n",
    "        for op in op_instr:\n",
    "            filtered.append(op)\n",
    "            op_list.append(op)\n",
    "            break\n",
    "    \n",
    "    if any(pref in tokens[i] for pref in section_prefixes):\n",
    "        for pref in section_prefixes:\n",
    "            if pref in tokens[i]:\n",
    "                filtered.append(pref)\n",
    "                break\n",
    "    \n",
    "    elif any(kw in tokens[i] for kw in msft_kw):\n",
    "        filtered.append(tokens[i])\n",
    "    elif any(tokens[i] == kw for kw in imp_kw):\n",
    "        two_gram = tokens[i] + ' ' + tokens[i + 1]\n",
    "        filtered.append(two_gram)\n",
    "    # subroutine call\n",
    "    elif tokens[i] == '__stdcall':\n",
    "        bigram = tokens[i] + ' ' + tokens[i+1].partition(\"(\")[0]\n",
    "        "
   ]
  }
 ],
 "metadata": {
  "kernelspec": {
   "display_name": "Python 3",
   "language": "python",
   "name": "python3"
  },
  "language_info": {
   "codemirror_mode": {
    "name": "ipython",
    "version": 3
   },
   "file_extension": ".py",
   "mimetype": "text/x-python",
   "name": "python",
   "nbconvert_exporter": "python",
   "pygments_lexer": "ipython3",
   "version": "3.6.5"
  }
 },
 "nbformat": 4,
 "nbformat_minor": 2
}
